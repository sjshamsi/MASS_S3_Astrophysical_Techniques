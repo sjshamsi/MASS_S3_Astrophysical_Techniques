{
 "cells": [
  {
   "cell_type": "markdown",
   "metadata": {},
   "source": [
    "# Heasoft Tutorial"
   ]
  },
  {
   "cell_type": "markdown",
   "metadata": {},
   "source": [
    "We select the GRB GRB 130831A from https://www.rochesterastronomy.org/snimages/grblist.html. The search resolves several options, and we select the one with the largest exposures in our desired X-ray and UV/Optical bands (second row).\n",
    "\n",
    "![alt text](media/GRB%20130831A_exposure_selection.png \"Title\")"
   ]
  },
  {
   "cell_type": "markdown",
   "metadata": {},
   "source": [
    "We then download the XRT event and UVOT images:\n",
    "\n",
    "![](media/download_event.png) ![](media/download_images.png)"
   ]
  },
  {
   "cell_type": "markdown",
   "metadata": {},
   "source": [
    "We also download the Swift Response Matrices for the XRT PC mode and UVOT filters, and place them in the directory for XRT and UVOT files respectively:\n",
    "\n",
    "![](media/response_matrices.png)"
   ]
  },
  {
   "cell_type": "markdown",
   "metadata": {},
   "source": [
    "Next we create `.reg` files for all our UVOT images and for the XRT event.\n",
    "\n",
    "**XRT**:\n",
    "\n",
    "<div style=\"display: flex; justify-content: space-around;\">\n",
    "  <img src=\"media/xrt_img.png\" width=\"600\"/>\n",
    "</div>\n",
    "\n",
    "<br>\n",
    "<br>\n",
    "\n",
    "\n",
    "**UVOT** (UBB, UVV, UUU, UM2, UW1, UW2 respectively):\n",
    "\n",
    "<div style=\"display: flex; justify-content: space-around;\">\n",
    "  <img src=\"media/ubb_img.png\" width=\"400\"/>\n",
    "  <img src=\"media/uvv_img.png\" width=\"400\"/>\n",
    "  <img src=\"media/uuu_img.png\" width=\"400\"/>\n",
    "</div>\n",
    "\n",
    "<br>\n",
    "<br>\n",
    "\n",
    "<div style=\"display: flex; justify-content: space-around;\">\n",
    "  <img src=\"media/um2_img.png\" width=\"400\"/>\n",
    "  <img src=\"media/uw1_img.png\" width=\"400\"/>\n",
    "  <img src=\"media/uw2_img.png\" width=\"400\"/>\n",
    "</div>"
   ]
  },
  {
   "cell_type": "markdown",
   "metadata": {},
   "source": [
    "## Working on XRT event\n",
    "\n",
    "From now on, we will work on the Sci Server on an image with Heasoft already installed. We extract the spectrum as follows:\n",
    "\n",
    "```\n",
    "xselect\n",
    "\n",
    "read event sw01186032001xpcw3po_cl.evt\n",
    "\n",
    "set image sky\n",
    "filter region xrt_src.reg\n",
    "extract spectrum\n",
    "save spectrum xrt_src.pha\n",
    "\n",
    "clear region\n",
    "\n",
    "filter region xrt_bkg.reg\n",
    "extract spectrum\n",
    "save spectrum xrt_bkg.pha\n",
    "\n",
    "exit\n",
    "```\n",
    "\n",
    "\n",
    "And then link the response files:\n",
    "\n",
    "```\n",
    "grppha\n",
    "xrt_src.pha\n",
    "xrt.pi\n",
    "bad 0-29\n",
    "group min 20\n",
    "chkey RESPFILE swxpc0to12s6_20130101v014.rmf\n",
    "chkey ANCRFILE swxs6_20010101v001.arf\n",
    "chkey BACKFILE xrt_bkg.pha\n",
    "exit\n",
    "```"
   ]
  },
  {
   "cell_type": "markdown",
   "metadata": {},
   "source": [
    "## Working on UVOT files\n",
    "\n",
    "We summ up all images within each filter's image file:\n",
    "\n",
    "```\n",
    "uvotimsum sw00568849001uw1_sk.img uw1_sum.fits chatter = 1\n",
    "uvotimsum sw00568849001uw2_sk.img uw2_sum.fits chatter = 1\n",
    "uvotimsum sw00568849001uuu_sk.img uuu_sum.fits chatter = 1\n",
    "uvotimsum sw00568849001ubb_sk.img ubb_sum.fits chatter = 1\n",
    "uvotimsum sw00568849001uvv_sk.img uvv_sum.fits chatter = 1\n",
    "uvotimsum sw00568849001um2_sk.img um2_sum.fits chatter = 1\n",
    "```\n",
    "\n",
    "Then we link the response files to extract the `.pha` files for these images:\n",
    "\n",
    "```\n",
    "uvot2pha infile=ubb_sum.fits srcpha=ubb.pha bkgpha=ubb_bkg.pha srcreg=ubb_src.reg bkgreg=ubb_bkg.reg respfile=swubb_20041120v105.rsp clobber=y chatter=1\n",
    "uvot2pha infile=um2_sum.fits srcpha=um2.pha bkgpha=um2_bkg.pha srcreg=um2_src.reg bkgreg=um2_bkg.reg respfile=swum2_20041120v106.rsp clobber=y chatter=1\n",
    "uvot2pha infile=uuu_sum.fits srcpha=uuu.pha bkgpha=uuu_bkg.pha srcreg=uuu_src.reg bkgreg=uuu_bkg.reg respfile=swuuu_20041120v105.rsp clobber=y chatter=1\n",
    "uvot2pha infile=uvv_sum.fits srcpha=uvv.pha bkgpha=uvv_bkg.pha srcreg=uvv_src.reg bkgreg=uvv_bkg.reg respfile=swuvv_20041120v105.rsp clobber=y chatter=1\n",
    "uvot2pha infile=uw1_sum.fits srcpha=uw1.pha bkgpha=uw1_bkg.pha srcreg=uw1_src.reg bkgreg=uw1_bkg.reg respfile=swuw1_20041120v106.rsp clobber=y chatter=1\n",
    "uvot2pha infile=uw2_sum.fits srcpha=uw2.pha bkgpha=uw2_bkg.pha srcreg=uw2_src.reg bkgreg=uw2_bkg.reg respfile=swuw2_20041120v106.rsp clobber=y chatter=1\n",
    "```"
   ]
  },
  {
   "cell_type": "markdown",
   "metadata": {},
   "source": [
    "## Plotting and Fitting\n",
    "\n",
    "We move all our files in the XRT and UCOT directories to a new one called `final_spec` to do our plotting and fitting. We are ready to plot with xspec:\n",
    "\n",
    "```\n",
    "xspec\n",
    "data 1:1 uuu.pha 1:2 ubb.pha 1:3 uvv.pha 1:4 uw1.pha 1:5 uw2.pha 1:6 um2.pha 2:7 xrt.pi\n",
    "\n",
    "cpd /png # we don't have a local installation of Heasoft\n",
    "setplot en\n",
    "plot ldata\n",
    "```\n",
    "\n",
    "<div style=\"display: flex; justify-content: space-around;\">\n",
    "  <img src=\"media/pgplot_pre_ignore.png\" width=\"600\"/>\n",
    "</div>"
   ]
  },
  {
   "cell_type": "markdown",
   "metadata": {},
   "source": [
    "`ignore bad`\n",
    "\n",
    "<div style=\"display: flex; justify-content: space-around;\">\n",
    "  <img src=\"media/1.png\" width=\"600\"/>\n",
    "</div>"
   ]
  },
  {
   "cell_type": "markdown",
   "metadata": {},
   "source": [
    "```\n",
    "model phabs*powerlaw\n",
    "\n",
    "1:data group 1::phabs:nH>1\n",
    "2:data group 1::powerlaw:PhoIndex>\n",
    "3:data group 1::powerlaw:norm>\n",
    "\n",
    "4:data group 2::phabs:nH>2\n",
    "5:data group 2::powerlaw:PhoIndex>1.5\n",
    "6:data group 2::powerlaw:norm>1e4\n",
    "```\n",
    "\n",
    "```\n",
    "renorm\n",
    "plot\n",
    "```\n",
    "\n",
    "<div style=\"display: flex; justify-content: space-around;\">\n",
    "  <img src=\"media/3.png\" width=\"600\"/>\n",
    "</div>"
   ]
  },
  {
   "cell_type": "markdown",
   "metadata": {},
   "source": [
    "```\n",
    "fit 100\n",
    "\n",
    "plot ldata\n",
    "```\n",
    "\n",
    "<div style=\"display: flex; justify-content: space-around;\">\n",
    "  <img src=\"media/5.png\" width=\"600\"/>\n",
    "</div>"
   ]
  },
  {
   "cell_type": "markdown",
   "metadata": {},
   "source": [
    "```\n",
    "plot ldata residual\n",
    "```\n",
    "\n",
    "<div style=\"display: flex; justify-content: space-around;\">\n",
    "  <img src=\"media/4.png\" width=\"600\"/>\n",
    "</div>"
   ]
  },
  {
   "cell_type": "markdown",
   "metadata": {},
   "source": [
    "```\n",
    "iplot\n",
    "\n",
    "la x Energy (keV)\n",
    "la y Counts s=1keV=1\n",
    "la top SED of GRB 130831A\n",
    "time off\n",
    "\n",
    "color 1 on 13\n",
    "color 2 on 14\n",
    "\n",
    "plot\n",
    "hardcopy grb_sed.ps/cps\n",
    "```\n",
    "\n",
    "<div style=\"display: flex; justify-content: space-around;\">\n",
    "  <img src=\"media/0.png\" width=\"600\"/>\n",
    "</div>"
   ]
  },
  {
   "cell_type": "markdown",
   "metadata": {},
   "source": []
  }
 ],
 "metadata": {
  "language_info": {
   "name": "python"
  }
 },
 "nbformat": 4,
 "nbformat_minor": 2
}
